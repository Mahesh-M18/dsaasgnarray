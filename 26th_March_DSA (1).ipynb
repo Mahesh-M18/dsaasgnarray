{
 "cells": [
  {
   "cell_type": "code",
   "execution_count": 31,
   "id": "22a9507e-218e-4411-82d1-008a2a0aa495",
   "metadata": {},
   "outputs": [],
   "source": [
    "#1. Given an array, check if it contains any duplicates or not.\n",
    "#arr = [1, 2, 4, 2, 5, 9]\n",
    "#Output = True"
   ]
  },
  {
   "cell_type": "code",
   "execution_count": 32,
   "id": "90bfaf6d-77c2-4e9d-96fa-2a87d508e087",
   "metadata": {},
   "outputs": [
    {
     "data": {
      "text/plain": [
       "True"
      ]
     },
     "execution_count": 32,
     "metadata": {},
     "output_type": "execute_result"
    }
   ],
   "source": [
    "##function definition\n",
    "def checkduplicate(arr):\n",
    "    for i in arr:\n",
    "        if arr.count(i)>1:\n",
    "            return True\n",
    "    return False\n",
    "##Driver code\n",
    "arr = [1, 2, 4, 2, 5, 9]\n",
    "checkduplicate(arr)\n",
    "\n",
    "#time complexity: O(n^2)\n",
    "#space complexity: O(n)"
   ]
  },
  {
   "cell_type": "code",
   "execution_count": 33,
   "id": "ddde8ed5-a733-4211-984f-12935a918a00",
   "metadata": {},
   "outputs": [],
   "source": [
    "#2. Given an array and an integer k, rotate the array to the right by k steps.\n",
    "#arr = [1, 2, 3, 4, 5, 6, 7] k = 3\n",
    "#Output = [5, 6, 7, 1, 2, 3, 4]"
   ]
  },
  {
   "cell_type": "code",
   "execution_count": 34,
   "id": "3dfe9e6f-509d-42ae-9367-e9a31571dc04",
   "metadata": {},
   "outputs": [
    {
     "name": "stdout",
     "output_type": "stream",
     "text": [
      "[5, 6, 7, 1, 2, 3, 4]\n"
     ]
    }
   ],
   "source": [
    "##function definition\n",
    "def rotatearr(arr, k):\n",
    "    n = len(arr)\n",
    "    rarr = [0] * n  # Create a new array of the same size to store rotated elements\n",
    "    for i in range(n):\n",
    "        rarr[(i + k) % n] = arr[i]  # Calculate the new index after rotation and assign the element\n",
    "    return rarr\n",
    "##Driver code\n",
    "arr = [1, 2, 3, 4, 5, 6, 7] \n",
    "k = 3\n",
    "result = rotatearr(arr, k)\n",
    "print(result)\n",
    "\n",
    "#time complexity: O(n)\n",
    "#space complexity: O(n)"
   ]
  },
  {
   "cell_type": "code",
   "execution_count": 35,
   "id": "5480f458-3d0b-44c1-870f-b996997cf92b",
   "metadata": {},
   "outputs": [],
   "source": [
    "#3. Reverse the given array in-place, means without using any extra data structure.\n",
    "#arr = [2, 4, 5, 7, 9, 12]\n",
    "#Output = [12, 9, 7, 5, 4, 2]"
   ]
  },
  {
   "cell_type": "code",
   "execution_count": 36,
   "id": "af97fac4-2116-4216-a011-500793b07241",
   "metadata": {},
   "outputs": [
    {
     "name": "stdout",
     "output_type": "stream",
     "text": [
      "[12, 9, 7, 5, 4, 2]\n"
     ]
    }
   ],
   "source": [
    "##function definition\n",
    "def reversearr(arr):\n",
    "    left = 0\n",
    "    right = len(arr) - 1   \n",
    "    while left < right:\n",
    "        arr[left], arr[right] = arr[right], arr[left]\n",
    "        left += 1\n",
    "        right -= 1\n",
    "    return arr\n",
    "##Driver code\n",
    "arr = [2, 4, 5, 7, 9, 12]\n",
    "result=reversearr(arr)\n",
    "print(result)\n",
    "\n",
    "#time complexity: o(n)\n",
    "#space complexity: o(1)"
   ]
  },
  {
   "cell_type": "code",
   "execution_count": 37,
   "id": "d68496c0-5775-410c-9879-cf5b842267a9",
   "metadata": {},
   "outputs": [],
   "source": [
    "#4. Given an array of integers, find the maximum element in an array\n",
    "#arr = [10, 5, 20, 8, 15]\n",
    "#Output = 20"
   ]
  },
  {
   "cell_type": "code",
   "execution_count": 38,
   "id": "26615035-26de-44d0-84fe-49ccffab6855",
   "metadata": {},
   "outputs": [
    {
     "name": "stdout",
     "output_type": "stream",
     "text": [
      "20\n"
     ]
    }
   ],
   "source": [
    "##function definition\n",
    "def maxele(arr):\n",
    "    n=len(arr)\n",
    "    maxele=arr[0]\n",
    "    for i in arr[1:]:\n",
    "        if i>maxele:\n",
    "            maxele=i\n",
    "    return maxele\n",
    "##Driver code\n",
    "arr = [10, 5, 20, 8, 15]\n",
    "result=maxele(arr)\n",
    "print(result)\n",
    "\n",
    "#time complexity: o(n)\n",
    "#space complexity: o(1)"
   ]
  },
  {
   "cell_type": "code",
   "execution_count": 39,
   "id": "92a609d7-64cd-4d77-b2c5-2dc84fe1dd64",
   "metadata": {},
   "outputs": [],
   "source": [
    "#5. Given a sorted array, remove the duplicate element without using any extra data structure.\n",
    "#arr = [1, 1, 2, 2, 2, 3, 3, 4, 4, 4, 5, 5]\n",
    "#Output = [1, 2, 3, 4, 5]"
   ]
  },
  {
   "cell_type": "code",
   "execution_count": 40,
   "id": "00215619-0e98-4bba-bac5-a5b68436734c",
   "metadata": {},
   "outputs": [
    {
     "name": "stdout",
     "output_type": "stream",
     "text": [
      "[1, 2, 3, 4, 4, 5]\n"
     ]
    }
   ],
   "source": [
    "##function definition\n",
    "def remove_duplicates(arr):\n",
    "    if len(arr) == 0:\n",
    "        return []\n",
    "    next_unique_index = 1\n",
    "    for i in range(1, len(arr)):\n",
    "         if arr[i] != arr[next_unique_index - 1]:\n",
    "            arr[next_unique_index] = arr[i]\n",
    "            next_unique_index += 1\n",
    "    return arr[:next_unique_index]\n",
    "##Driver code\n",
    "arr = [1, 1, 2, 2, 2, 3, 3, 4, 4, 4, 5, 5]\n",
    "result=removeduplicate(arr)\n",
    "print(result)\n",
    "\n",
    "#time complexity: O(n)\n",
    "#space complexity: O(1)"
   ]
  }
 ],
 "metadata": {
  "kernelspec": {
   "display_name": "Python 3 (ipykernel)",
   "language": "python",
   "name": "python3"
  },
  "language_info": {
   "codemirror_mode": {
    "name": "ipython",
    "version": 3
   },
   "file_extension": ".py",
   "mimetype": "text/x-python",
   "name": "python",
   "nbconvert_exporter": "python",
   "pygments_lexer": "ipython3",
   "version": "3.10.8"
  }
 },
 "nbformat": 4,
 "nbformat_minor": 5
}
